{
 "cells": [
  {
   "cell_type": "code",
   "execution_count": 5,
   "metadata": {},
   "outputs": [
    {
     "name": "stdout",
     "output_type": "stream",
     "text": [
      "Iteration[1]\n",
      "Specific:['Sunny' 'Warm' 'Normal' 'Strong' 'Warm' 'Same']\n",
      "General:[['?', '?', '?', '?', '?', '?'], ['?', '?', '?', '?', '?', '?'], ['?', '?', '?', '?', '?', '?'], ['?', '?', '?', '?', '?', '?'], ['?', '?', '?', '?', '?', '?'], ['?', '?', '?', '?', '?', '?']]\n",
      "\n",
      "\n",
      "Iteration[2]\n",
      "Specific:['Sunny' 'Warm' 'Normal' 'Strong' 'Warm' 'Same']\n",
      "General:[['?', '?', '?', '?', '?', '?'], ['?', '?', '?', '?', '?', '?'], ['?', '?', 'Normal', '?', '?', '?'], ['?', '?', '?', '?', '?', '?'], ['?', '?', '?', '?', '?', '?'], ['?', '?', '?', '?', '?', '?']]\n",
      "\n",
      "\n",
      "Iteration[3]\n",
      "Specific:['Sunny' 'Warm' 'Normal' 'Strong' 'Warm' 'Same']\n",
      "General:[['Sunny', '?', '?', '?', '?', '?'], ['?', 'Warm', '?', '?', '?', '?'], ['?', '?', 'Normal', '?', '?', '?'], ['?', '?', '?', '?', '?', '?'], ['?', '?', '?', '?', '?', '?'], ['?', '?', '?', '?', '?', 'Same']]\n",
      "\n",
      "\n",
      "Iteration[4]\n",
      "Specific:['Sunny' 'Warm' 'Normal' 'Strong' 'Warm' 'Same']\n",
      "General:[['?', '?', '?', '?', '?', '?'], ['?', '?', '?', '?', '?', '?'], ['?', '?', 'Normal', '?', '?', '?'], ['?', '?', '?', '?', '?', '?'], ['?', '?', '?', '?', 'Warm', '?'], ['?', '?', '?', '?', '?', 'Same']]\n",
      "\n",
      "\n",
      "-----Final Hypothesis-----\n",
      "specific hypothesis:['Sunny' 'Warm' 'Normal' 'Strong' 'Warm' 'Same']\n",
      "general hypothesis:[['?', '?', 'Normal', '?', '?', '?'], ['?', '?', '?', '?', 'Warm', '?'], ['?', '?', '?', '?', '?', 'Same']]\n"
     ]
    }
   ],
   "source": [
    "import pandas as pd\n",
    "import numpy as np\n",
    "data=pd.read_csv('finds.csv')\n",
    "concepts=np.array(data)[:,:-1]\n",
    "target=np.array(data)[:,-1]\n",
    "\n",
    "def train(con,tar):\n",
    "    specific=con[0].copy()\n",
    "    general=[['?'for x in range (len(specific))]for x in range(len(specific))]\n",
    "    \n",
    "    for i,val in enumerate(con):\n",
    "        if tar[i]=='yes':\n",
    "            for x in range (len(specific)):\n",
    "                if val[x]!=specific[x]:\n",
    "                    specific[x]='?'\n",
    "                    general[x][x]='?'\n",
    "        else:\n",
    "            for x in range(len(specific)):\n",
    "                if val[x]!=specific[x]:\n",
    "                    general[x][x]=specific[x]\n",
    "                else:\n",
    "                    general[x][x]='?'\n",
    "        print(\"Iteration[\" + str(i+1) + \"]\")\n",
    "        print(\"Specific:\"+str(specific))\n",
    "        print(\"General:\"+str(general)+\"\\n\\n\")\n",
    "    general=[general[i] for i,val in enumerate (general) if val!=['?' for x in range(len(specific))]]\n",
    "    return specific,general\n",
    "specific,general=train(concepts,target)\n",
    "print(\"-----Final Hypothesis-----\")\n",
    "print(\"specific hypothesis:\"+str(specific))\n",
    "print(\"general hypothesis:\"+str(general))"
   ]
  },
  {
   "cell_type": "code",
   "execution_count": null,
   "metadata": {},
   "outputs": [],
   "source": []
  }
 ],
 "metadata": {
  "kernelspec": {
   "display_name": "Python 3",
   "language": "python",
   "name": "python3"
  },
  "language_info": {
   "codemirror_mode": {
    "name": "ipython",
    "version": 3
   },
   "file_extension": ".py",
   "mimetype": "text/x-python",
   "name": "python",
   "nbconvert_exporter": "python",
   "pygments_lexer": "ipython3",
   "version": "3.7.4"
  }
 },
 "nbformat": 4,
 "nbformat_minor": 2
}
