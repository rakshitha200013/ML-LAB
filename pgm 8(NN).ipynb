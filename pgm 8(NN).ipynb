{
 "cells": [
  {
   "cell_type": "code",
   "execution_count": 1,
   "metadata": {},
   "outputs": [
    {
     "data": {
      "text/plain": [
       "0.9525741268224334"
      ]
     },
     "execution_count": 1,
     "metadata": {},
     "output_type": "execute_result"
    }
   ],
   "source": [
    "import numpy as np\n",
    "\n",
    "def NN(x1,x2,w1,w2,b):\n",
    "    yin =x1*w1+x2*w2+b\n",
    "    return sigmoid(yin)\n",
    "\n",
    "def sigmoid(x):\n",
    "    return 1/(1+np.exp(-x))\n",
    "\n",
    "NN(1,1,1,1,1,)"
   ]
  },
  {
   "cell_type": "code",
   "execution_count": 46,
   "metadata": {},
   "outputs": [
    {
     "name": "stdout",
     "output_type": "stream",
     "text": [
      "Initial weigths are:\n",
      "[[-0.16595599]\n",
      " [ 0.44064899]\n",
      " [-0.99977125]]\n",
      "new weights are:\n",
      "[[ 9.67299303]\n",
      " [-0.2078435 ]\n",
      " [-4.62963669]]\n",
      "obtained output values are\n",
      "[[0.00966449]\n",
      " [0.99211957]\n",
      " [0.99358898]\n",
      " [0.00786506]]\n"
     ]
    }
   ],
   "source": [
    "import numpy as np\n",
    "\n",
    "def sigmoid(x):\n",
    "    return 1/(1+np.exp(-x))\n",
    "\n",
    "def sigmoid_derivation(x):\n",
    "    return x*(x-1)\n",
    "\n",
    "input = np.array([[0,0,1],\n",
    "                  [1,1,1],\n",
    "                  [1,0,1],\n",
    "                  [0,1,1]])\n",
    "\n",
    "a_output = np.array([[0,1,1,0]]).T \n",
    "\n",
    "np.random.seed(1)\n",
    "\n",
    "weights =  2* np.random.random((3,1)) -1\n",
    "\n",
    "print('Initial weigths are:')\n",
    "print(weights)\n",
    "\n",
    "\n",
    "for i in range(10000):    \n",
    "    input_layer = input\n",
    "    o_output = sigmoid(np.dot(input_layer,weights))\n",
    "\n",
    "    loss = o_output - a_output\n",
    "    \n",
    "    adjustment = loss * sigmoid_derivation(o_output)\n",
    "    \n",
    "    weights = weights +np.dot(input_layer.T, adjustment)\n",
    "     \n",
    "print('new weights are:')\n",
    "print(weights)\n",
    "\n",
    "print('obtained output values are')\n",
    "print(o_output)"
   ]
  }
 ],
 "metadata": {
  "kernelspec": {
   "display_name": "Python 3",
   "language": "python",
   "name": "python3"
  },
  "language_info": {
   "codemirror_mode": {
    "name": "ipython",
    "version": 3
   },
   "file_extension": ".py",
   "mimetype": "text/x-python",
   "name": "python",
   "nbconvert_exporter": "python",
   "pygments_lexer": "ipython3",
   "version": "3.7.4"
  }
 },
 "nbformat": 4,
 "nbformat_minor": 2
}
