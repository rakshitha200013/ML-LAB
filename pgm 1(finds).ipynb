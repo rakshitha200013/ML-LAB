{
 "cells": [
  {
   "cell_type": "code",
   "execution_count": 1,
   "metadata": {
    "scrolled": true
   },
   "outputs": [
    {
     "name": "stdout",
     "output_type": "stream",
     "text": [
      " Specific [ 1 ]: ['sunny' 'warm' 'normal' 'strong' 'warm' 'same']\n",
      " Specific [ 2 ]: ['sunny' 'warm' '?' 'strong' 'warm' 'same']\n",
      " Specific [ 3 ]: ['sunny' 'warm' '?' 'strong' 'warm' 'same']\n",
      " Specific [ 4 ]: ['sunny' 'warm' '?' 'strong' '?' '?']\n",
      "['sunny' 'warm' '?' 'strong' '?' '?']\n"
     ]
    }
   ],
   "source": [
    "import pandas as pd\n",
    "import numpy as np\n",
    "data = pd.read_csv('play.csv')\n",
    "concepts = np.array(data)[:,:-1]\n",
    "target =np.array(data)[:,-1]\n",
    "\n",
    "def train (tar,con):\n",
    "    for i,val in enumerate(tar):\n",
    "        if val=='yes':\n",
    "            specific = con[i].copy()\n",
    "        break\n",
    "    for i,val in enumerate(con):\n",
    "        if tar[i]=='yes':\n",
    "            for x in range (len(specific)):\n",
    "                if val[x]!=specific[x]:\n",
    "                    specific[x]='?'\n",
    "                else:\n",
    "                    pass\n",
    "        print(\" Specific [\",(i+1),\"]:\", str(specific))\n",
    "    return specific\n",
    "print(train (target,concepts))"
   ]
  },
  {
   "cell_type": "code",
   "execution_count": 2,
   "metadata": {},
   "outputs": [
    {
     "name": "stdout",
     "output_type": "stream",
     "text": [
      "     sky  temp   humid    wind water forcast play\n",
      "0  sunny  warm  normal  strong  warm    same  yes\n",
      "1  sunny  warm    high  strong  warm    same  yes\n",
      "2  rainy  cold    high  strong  warm    same   no\n",
      "3  sunny  warm    high  strong  cool  change  yes\n"
     ]
    }
   ],
   "source": [
    "print(data)"
   ]
  }
 ],
 "metadata": {
  "kernelspec": {
   "display_name": "Python 3",
   "language": "python",
   "name": "python3"
  },
  "language_info": {
   "codemirror_mode": {
    "name": "ipython",
    "version": 3
   },
   "file_extension": ".py",
   "mimetype": "text/x-python",
   "name": "python",
   "nbconvert_exporter": "python",
   "pygments_lexer": "ipython3",
   "version": "3.7.4"
  }
 },
 "nbformat": 4,
 "nbformat_minor": 2
}
